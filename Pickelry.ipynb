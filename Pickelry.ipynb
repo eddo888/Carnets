{
 "cells": [
  {
   "cell_type": "markdown",
   "metadata": {},
   "source": [
    "# jsonpickle\n",
    "\n",
    "the elegent json serialisation library"
   ]
  },
  {
   "cell_type": "code",
   "execution_count": 1,
   "metadata": {
    "scrolled": true
   },
   "outputs": [
    {
     "name": "stdout",
     "output_type": "stream",
     "text": [
      "Collecting jsonpickle\n",
      "  Downloading jsonpickle-1.3-py2.py3-none-any.whl (32 kB)\n",
      "Installing collected packages: jsonpickle\n",
      "Successfully installed jsonpickle-1.3\n",
      "Note: you may need to restart the kernel to use updated packages.\n"
     ]
    }
   ],
   "source": [
    "pip install jsonpickle"
   ]
  },
  {
   "cell_type": "markdown",
   "metadata": {},
   "source": [
    "## directory()\n",
    "\n",
    "simple object browser for diagnostics purpose"
   ]
  },
  {
   "cell_type": "code",
   "execution_count": 2,
   "metadata": {},
   "outputs": [],
   "source": [
    "def directory(object):\n",
    "    print(type(object))\n",
    "    for key in dir(object):\n",
    "        if key.startswith('_'):\n",
    "            continue\n",
    "        value = getattr(object, key)\n",
    "        print('\\t@%s: %s = %s'%(key, type(value), value))"
   ]
  },
  {
   "cell_type": "markdown",
   "metadata": {},
   "source": [
    "## perdy\n",
    "\n",
    "another simple function to print the object perdy like"
   ]
  },
  {
   "cell_type": "code",
   "execution_count": 3,
   "metadata": {},
   "outputs": [],
   "source": [
    "def perdy(obj):\n",
    "    keys = filter(lambda x: not x.startswith('_'), dir(obj))\n",
    "    d = dict(map(lambda x: (x, getattr(obj,x)), keys))\n",
    "    print('name={name}\\ndob={dob}\\nage={age}'.format(**d))"
   ]
  },
  {
   "cell_type": "markdown",
   "metadata": {},
   "source": [
    "# import"
   ]
  },
  {
   "cell_type": "code",
   "execution_count": 4,
   "metadata": {},
   "outputs": [],
   "source": [
    "import json\n",
    "from datetime import datetime, time\n",
    "from jsonpickle import encode, decode"
   ]
  },
  {
   "cell_type": "markdown",
   "metadata": {},
   "source": [
    "## Person\n",
    "\n",
    "a base class to pickle"
   ]
  },
  {
   "cell_type": "code",
   "execution_count": 5,
   "metadata": {},
   "outputs": [],
   "source": [
    "class Person(object):\n",
    "    '''\n",
    "    base class for all people types\n",
    "    '''\n",
    "    \n",
    "    def __init__(self,\n",
    "        name=None,\n",
    "        dob=None,\n",
    "    ):\n",
    "        self.name = name\n",
    "        self.dob = dob\n",
    "    \n",
    "    @property\n",
    "    def age(self):\n",
    "        return (datetime.now() - self.dob).days/365.25"
   ]
  },
  {
   "cell_type": "markdown",
   "metadata": {},
   "source": [
    "## Parent\n",
    "\n",
    "that extends Person and links to Child"
   ]
  },
  {
   "cell_type": "code",
   "execution_count": 6,
   "metadata": {},
   "outputs": [],
   "source": [
    "class Parent(Person):\n",
    "    '''\n",
    "    lets test inheritance\n",
    "    '''\n",
    "\n",
    "    def __init__(self, *args, **kwargs):\n",
    "        super().__init__(*args, **kwargs)\n",
    "        self.children = set()\n",
    "\n",
    "    def add_child(self, child):\n",
    "        self.children.add(child)\n",
    "        child.parents.add(self)"
   ]
  },
  {
   "cell_type": "markdown",
   "metadata": {},
   "source": [
    "## Child\n",
    "\n",
    "that extends Person and links to Parent"
   ]
  },
  {
   "cell_type": "code",
   "execution_count": 7,
   "metadata": {},
   "outputs": [],
   "source": [
    "class Child(Person):\n",
    "    '''\n",
    "    lets test relationships\n",
    "    '''\n",
    "\n",
    "    def __init__(self, *args, **kwargs):\n",
    "        super().__init__(*args, **kwargs)\n",
    "        self.parents = set()\n",
    "\n",
    "    def add_parent(self, parent):\n",
    "        self.parents.add(parent)\n",
    "        parent.children.add(self)"
   ]
  },
  {
   "cell_type": "markdown",
   "metadata": {},
   "source": [
    "## parent\n",
    "\n",
    "lets create a parent"
   ]
  },
  {
   "cell_type": "code",
   "execution_count": 8,
   "metadata": {},
   "outputs": [
    {
     "name": "stdout",
     "output_type": "stream",
     "text": [
      "name=Dad\n",
      "dob=1970-01-01 00:00:00\n",
      "age=50.223134839151264\n"
     ]
    }
   ],
   "source": [
    "dob = datetime.strptime(\"1970-01-01 00:00:00\", \"%Y-%m-%d %H:%M:%S\")\n",
    "parent = Parent(name='Dad', dob=dob)\n",
    "#directory(parent)\n",
    "perdy(parent)"
   ]
  },
  {
   "cell_type": "markdown",
   "metadata": {},
   "source": [
    "## child\n",
    "\n",
    "create a child and link it to the parent"
   ]
  },
  {
   "cell_type": "code",
   "execution_count": 9,
   "metadata": {},
   "outputs": [
    {
     "name": "stdout",
     "output_type": "stream",
     "text": [
      "name=Son\n",
      "dob=2000-01-11 00:00:00\n",
      "age=20.197125256673512\n"
     ]
    }
   ],
   "source": [
    "dob = datetime.strptime(\"2000-01-11 00:00:00\", \"%Y-%m-%d %H:%M:%S\")\n",
    "child = Child(name='Son', dob=dob)\n",
    "parent.add_child(child)\n",
    "#directory(child)\n",
    "perdy(child)"
   ]
  },
  {
   "cell_type": "markdown",
   "metadata": {},
   "source": [
    "### encode\n",
    "\n",
    "create a json string representation of the object"
   ]
  },
  {
   "cell_type": "code",
   "execution_count": 10,
   "metadata": {},
   "outputs": [
    {
     "name": "stdout",
     "output_type": "stream",
     "text": [
      "Requirement already satisfied: Perdy in /Library/Frameworks/Python.framework/Versions/3.8/lib/python3.8/site-packages (1.6)\n",
      "Requirement already satisfied: pytz in /Library/Frameworks/Python.framework/Versions/3.8/lib/python3.8/site-packages (from Perdy) (2019.3)\n",
      "Requirement already satisfied: arrow in /Library/Frameworks/Python.framework/Versions/3.8/lib/python3.8/site-packages (from Perdy) (0.15.5)\n",
      "Requirement already satisfied: xmltodict in /Library/Frameworks/Python.framework/Versions/3.8/lib/python3.8/site-packages (from Perdy) (0.12.0)\n",
      "Requirement already satisfied: PyYAML in /Library/Frameworks/Python.framework/Versions/3.8/lib/python3.8/site-packages (from Perdy) (5.3)\n",
      "Requirement already satisfied: argcomplete in /Library/Frameworks/Python.framework/Versions/3.8/lib/python3.8/site-packages (from Perdy) (1.11.1)\n",
      "Requirement already satisfied: Baubles in /Library/Frameworks/Python.framework/Versions/3.8/lib/python3.8/site-packages (from Perdy) (1.6)\n",
      "Requirement already satisfied: python-dateutil in /Library/Frameworks/Python.framework/Versions/3.8/lib/python3.8/site-packages (from arrow->Perdy) (2.8.1)\n",
      "Requirement already satisfied: six>=1.5 in /Library/Frameworks/Python.framework/Versions/3.8/lib/python3.8/site-packages (from python-dateutil->arrow->Perdy) (1.14.0)\n",
      "Note: you may need to restart the kernel to use updated packages.\n"
     ]
    }
   ],
   "source": [
    "pip install Perdy"
   ]
  },
  {
   "cell_type": "code",
   "execution_count": 11,
   "metadata": {},
   "outputs": [
    {
     "name": "stdout",
     "output_type": "stream",
     "text": [
      "\u001b[35m{\u001b[0m\n",
      "  \"\u001b[36mchildren\u001b[0m\" : \u001b[35m{\u001b[0m\n",
      "    \"\u001b[32mpy/set\u001b[0m\" : \u001b[36m[\u001b[0m\n",
      "      \u001b[35m{\u001b[0m\n",
      "        \"\u001b[36mdob\u001b[0m\" : \u001b[35m{\u001b[0m\n",
      "          \"\u001b[32m__reduce__\u001b[0m\" : \u001b[36m[\u001b[0m\n",
      "            \u001b[35m{\u001b[0m\n",
      "              \"\u001b[32mpy/type\u001b[0m\" : \"\u001b[31mdatetime.datetime\u001b[0m\"\n",
      "            \u001b[35m}\u001b[0m,\n",
      "            \u001b[36m[\u001b[0m\n",
      "              \"\u001b[31mB9ABCwAAAAAAAA==\u001b[0m\"\n",
      "            \u001b[36m]\u001b[0m\n",
      "          \u001b[36m]\u001b[0m,\n",
      "          \"\u001b[32mpy/object\u001b[0m\" : \"\u001b[31mdatetime.datetime\u001b[0m\"\n",
      "        \u001b[35m}\u001b[0m,\n",
      "        \"\u001b[32mname\u001b[0m\" : \"\u001b[31mSon\u001b[0m\",\n",
      "        \"\u001b[36mparents\u001b[0m\" : \u001b[35m{\u001b[0m\n",
      "          \"\u001b[32mpy/set\u001b[0m\" : \u001b[36m[\u001b[0m\n",
      "            \u001b[35m{\u001b[0m\n",
      "              \"\u001b[32mpy/id\u001b[0m\" : \u001b[31m0\u001b[0m\n",
      "            \u001b[35m}\u001b[0m\n",
      "          \u001b[36m]\u001b[0m\n",
      "        \u001b[35m}\u001b[0m,\n",
      "        \"\u001b[32mpy/object\u001b[0m\" : \"\u001b[31m__main__.Child\u001b[0m\"\n",
      "      \u001b[35m}\u001b[0m\n",
      "    \u001b[36m]\u001b[0m\n",
      "  \u001b[35m}\u001b[0m,\n",
      "  \"\u001b[36mdob\u001b[0m\" : \u001b[35m{\u001b[0m\n",
      "    \"\u001b[32m__reduce__\u001b[0m\" : \u001b[36m[\u001b[0m\n",
      "      \u001b[35m{\u001b[0m\n",
      "        \"\u001b[32mpy/type\u001b[0m\" : \"\u001b[31mdatetime.datetime\u001b[0m\"\n",
      "      \u001b[35m}\u001b[0m,\n",
      "      \u001b[36m[\u001b[0m\n",
      "        \"\u001b[31mB7IBAQAAAAAAAA==\u001b[0m\"\n",
      "      \u001b[36m]\u001b[0m\n",
      "    \u001b[36m]\u001b[0m,\n",
      "    \"\u001b[32mpy/object\u001b[0m\" : \"\u001b[31mdatetime.datetime\u001b[0m\"\n",
      "  \u001b[35m}\u001b[0m,\n",
      "  \"\u001b[32mname\u001b[0m\" : \"\u001b[31mDad\u001b[0m\",\n",
      "  \"\u001b[32mpy/object\u001b[0m\" : \"\u001b[31m__main__.Parent\u001b[0m\"\n",
      "\u001b[35m}\u001b[0m\n"
     ]
    }
   ],
   "source": [
    "js = json.loads(encode(parent))\n",
    "\n",
    "from Perdy.pretty import prettyPrintLn\n",
    "\n",
    "prettyPrintLn(js)"
   ]
  },
  {
   "cell_type": "markdown",
   "metadata": {},
   "source": [
    "### decode\n",
    "\n",
    "re-construct a python class from json string\n",
    "make sure you put classes=[] to reconstitute the correct classes"
   ]
  },
  {
   "cell_type": "code",
   "execution_count": 12,
   "metadata": {},
   "outputs": [
    {
     "name": "stdout",
     "output_type": "stream",
     "text": [
      "name=Dad\n",
      "dob=1970-01-01 00:00:00\n",
      "age=50.223134839151264\n"
     ]
    }
   ],
   "source": [
    "spouse = decode(json.dumps(js), classes=[Parent, Child])\n",
    "#directory(spouse)\n",
    "perdy(spouse)"
   ]
  },
  {
   "cell_type": "code",
   "execution_count": null,
   "metadata": {},
   "outputs": [],
   "source": []
  }
 ],
 "metadata": {
  "kernelspec": {
   "display_name": "Python 3",
   "language": "python",
   "name": "python3"
  },
  "language_info": {
   "codemirror_mode": {
    "name": "ipython",
    "version": 3
   },
   "file_extension": ".py",
   "mimetype": "text/x-python",
   "name": "python",
   "nbconvert_exporter": "python",
   "pygments_lexer": "ipython3",
   "version": "3.8.2"
  }
 },
 "nbformat": 4,
 "nbformat_minor": 4
}
