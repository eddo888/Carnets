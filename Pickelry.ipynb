{
 "cells": [
  {
   "cell_type": "markdown",
   "metadata": {},
   "source": [
    "# jsonpickle\n",
    "\n",
    "the elegent json serialisation library"
   ]
  },
  {
   "cell_type": "code",
   "execution_count": 1,
   "metadata": {
    "scrolled": true
   },
   "outputs": [
    {
     "name": "stdout",
     "output_type": "stream",
     "text": [
      "Requirement already satisfied: jsonpickle in /private/var/mobile/Containers/Data/Application/11E514B0-FB16-42FF-AA00-BDD2685C5E98/Library/lib/python3.7/site-packages (1.2)\n",
      "Note: you may need to restart the kernel to use updated packages.\n"
     ]
    }
   ],
   "source": [
    "pip install jsonpickle"
   ]
  },
  {
   "cell_type": "markdown",
   "metadata": {},
   "source": [
    "## directory()\n",
    "\n",
    "simple object browser for diagnostics purpose"
   ]
  },
  {
   "cell_type": "code",
   "execution_count": 2,
   "metadata": {},
   "outputs": [],
   "source": [
    "def directory(object):\n",
    "    print(type(object))\n",
    "    for key in dir(object):\n",
    "        if key.startswith('_'):\n",
    "            continue\n",
    "        value = getattr(object, key)\n",
    "        print('\\t@%s: %s = %s'%(key, type(value), value))"
   ]
  },
  {
   "cell_type": "markdown",
   "metadata": {},
   "source": [
    "## perdy\n",
    "\n",
    "another simple function to print the object perdy like"
   ]
  },
  {
   "cell_type": "code",
   "execution_count": 3,
   "metadata": {},
   "outputs": [],
   "source": [
    "def perdy(obj):\n",
    "    keys = filter(lambda x: not x.startswith('_'), dir(obj))\n",
    "    d = dict(map(lambda x: (x, getattr(obj,x)), keys))\n",
    "    print('name={name}\\ndob={dob}\\nage={age}'.format(**d))"
   ]
  },
  {
   "cell_type": "markdown",
   "metadata": {},
   "source": [
    "# import"
   ]
  },
  {
   "cell_type": "code",
   "execution_count": 4,
   "metadata": {},
   "outputs": [],
   "source": [
    "import json\n",
    "from datetime import datetime, time\n",
    "from jsonpickle import encode, decode"
   ]
  },
  {
   "cell_type": "markdown",
   "metadata": {},
   "source": [
    "## Person\n",
    "\n",
    "a base class to pickle"
   ]
  },
  {
   "cell_type": "code",
   "execution_count": 5,
   "metadata": {},
   "outputs": [],
   "source": [
    "class Person(object):\n",
    "    '''\n",
    "    base class for all people types\n",
    "    '''\n",
    "    \n",
    "    def __init__(self,\n",
    "        name=None,\n",
    "        dob=None,\n",
    "    ):\n",
    "        self.name = name\n",
    "        self.dob = dob\n",
    "    \n",
    "    @property\n",
    "    def age(self):\n",
    "        return (datetime.now() - self.dob).days/365.25"
   ]
  },
  {
   "cell_type": "markdown",
   "metadata": {},
   "source": [
    "## Parent\n",
    "\n",
    "that extends Person and links to Child"
   ]
  },
  {
   "cell_type": "code",
   "execution_count": 6,
   "metadata": {},
   "outputs": [],
   "source": [
    "class Parent(Person):\n",
    "    '''\n",
    "    lets test inheritance\n",
    "    '''\n",
    "\n",
    "    def __init__(self, *args, **kwargs):\n",
    "        super().__init__(*args, **kwargs)\n",
    "        self.children = set()\n",
    "\n",
    "    def add_child(self, child):\n",
    "        self.children.add(child)\n",
    "        child.parents.add(self)"
   ]
  },
  {
   "cell_type": "markdown",
   "metadata": {},
   "source": [
    "## Child\n",
    "\n",
    "that extends Person and links to Parent"
   ]
  },
  {
   "cell_type": "code",
   "execution_count": 7,
   "metadata": {},
   "outputs": [],
   "source": [
    "class Child(Person):\n",
    "    '''\n",
    "    lets test relationships\n",
    "    '''\n",
    "\n",
    "    def __init__(self, *args, **kwargs):\n",
    "        super().__init__(*args, **kwargs)\n",
    "        self.parents = set()\n",
    "\n",
    "    def add_parent(self, parent):\n",
    "        self.parents.add(parent)\n",
    "        parent.children.add(self)"
   ]
  },
  {
   "cell_type": "markdown",
   "metadata": {},
   "source": [
    "## parent\n",
    "\n",
    "lets create a parent"
   ]
  },
  {
   "cell_type": "code",
   "execution_count": 8,
   "metadata": {},
   "outputs": [
    {
     "name": "stdout",
     "output_type": "stream",
     "text": [
      "name=Dad\n",
      "dob=1970-01-01 00:00:00\n",
      "age=50.14647501711157\n"
     ]
    }
   ],
   "source": [
    "dob = datetime.strptime(\"1970-01-01 00:00:00\", \"%Y-%m-%d %H:%M:%S\")\n",
    "parent = Parent(name='Dad', dob=dob)\n",
    "#directory(parent)\n",
    "perdy(parent)"
   ]
  },
  {
   "cell_type": "markdown",
   "metadata": {},
   "source": [
    "## child\n",
    "\n",
    "create a child and link it to the parent"
   ]
  },
  {
   "cell_type": "code",
   "execution_count": 9,
   "metadata": {},
   "outputs": [
    {
     "name": "stdout",
     "output_type": "stream",
     "text": [
      "name=Son\n",
      "dob=2000-01-11 00:00:00\n",
      "age=20.12046543463381\n"
     ]
    }
   ],
   "source": [
    "dob = datetime.strptime(\"2000-01-11 00:00:00\", \"%Y-%m-%d %H:%M:%S\")\n",
    "child = Child(name='Son', dob=dob)\n",
    "parent.add_child(child)\n",
    "#directory(child)\n",
    "perdy(child)"
   ]
  },
  {
   "cell_type": "markdown",
   "metadata": {},
   "source": [
    "### encode\n",
    "\n",
    "create a json string representation of the object"
   ]
  },
  {
   "cell_type": "code",
   "execution_count": 12,
   "metadata": {},
   "outputs": [
    {
     "name": "stdout",
     "output_type": "stream",
     "text": [
      "Collecting Perdy\n",
      "  Downloading https://files.pythonhosted.org/packages/56/a2/e947091322a5d01279fee440f6cd829f38cf8c11b15b530e7f47de7d7419/Perdy-1.3.tar.gz\n",
      "Requirement already satisfied: pytz in /private/var/mobile/Containers/Data/Application/11E514B0-FB16-42FF-AA00-BDD2685C5E98/Library/lib/python3.7/site-packages (from Perdy) (2018.9)\n",
      "Collecting arrow (from Perdy)\n",
      "\u001b[?25l  Downloading https://files.pythonhosted.org/packages/92/fa/f84896dede5decf284e6922134bf03fd26c90870bbf8015f4e8ee2a07bcc/arrow-0.15.5-py2.py3-none-any.whl (46kB)\n",
      "\u001b[K     |████████████████████████████████| 51kB 2.6MB/s eta 0:00:01\n",
      "\u001b[?25hCollecting xmltodict (from Perdy)\n",
      "  Downloading https://files.pythonhosted.org/packages/28/fd/30d5c1d3ac29ce229f6bdc40bbc20b28f716e8b363140c26eff19122d8a5/xmltodict-0.12.0-py2.py3-none-any.whl\n",
      "Requirement already satisfied: PyYAML in /private/var/mobile/Containers/Data/Application/11E514B0-FB16-42FF-AA00-BDD2685C5E98/Library/lib/python3.7/site-packages (from Perdy) (5.1)\n",
      "Collecting argcomplete (from Perdy)\n",
      "  Downloading https://files.pythonhosted.org/packages/82/7d/455e149c28c320044cb763c23af375bd77d52baca041f611f5c2b4865cf4/argcomplete-1.11.1-py2.py3-none-any.whl\n",
      "Collecting Baubles (from Perdy)\n",
      "  Downloading https://files.pythonhosted.org/packages/bb/98/d54e1f411cacfd28d888f02c8b36ceca048fa0ab8eb0faaccf4fa5009c4f/Baubles-1.6.tar.gz\n",
      "Requirement already satisfied: python-dateutil in /private/var/mobile/Containers/Data/Application/11E514B0-FB16-42FF-AA00-BDD2685C5E98/Library/lib/python3.7/site-packages (from arrow->Perdy) (2.7.5)\n",
      "Collecting importlib-metadata<2,>=0.23; python_version == \"3.7\" (from argcomplete->Perdy)\n",
      "  Downloading https://files.pythonhosted.org/packages/8b/03/a00d504808808912751e64ccf414be53c29cad620e3de2421135fcae3025/importlib_metadata-1.5.0-py2.py3-none-any.whl\n",
      "Requirement already satisfied: six>=1.5 in /private/var/mobile/Containers/Data/Application/11E514B0-FB16-42FF-AA00-BDD2685C5E98/Library/lib/python3.7/site-packages (from python-dateutil->arrow->Perdy) (1.12.0)\n",
      "Collecting zipp>=0.5 (from importlib-metadata<2,>=0.23; python_version == \"3.7\"->argcomplete->Perdy)\n",
      "  Downloading https://files.pythonhosted.org/packages/6f/6d/a55f6e81ac213942b9a19cbc05b560c726c3e16f8fb17555f059c17d65f2/zipp-3.0.0-py3-none-any.whl\n",
      "Installing collected packages: arrow, xmltodict, zipp, importlib-metadata, argcomplete, Baubles, Perdy\n",
      "  Running setup.py install for Baubles ... \u001b[?25l-\\|done\n",
      "\u001b[?25h  Running setup.py install for Perdy ... \u001b[?25l-\\done\n",
      "\u001b[?25hSuccessfully installed Baubles-1.6 Perdy-1.3 argcomplete-1.11.1 arrow-0.15.5 importlib-metadata-1.5.0 xmltodict-0.12.0 zipp-3.0.0\n",
      "Note: you may need to restart the kernel to use updated packages.\n"
     ]
    }
   ],
   "source": [
    "pip install Perdy"
   ]
  },
  {
   "cell_type": "code",
   "execution_count": 14,
   "metadata": {},
   "outputs": [
    {
     "name": "stdout",
     "output_type": "stream",
     "text": [
      "\u001b[35m{\u001b[0m\n",
      "  \"\u001b[36mchildren\u001b[0m\" : \u001b[35m{\u001b[0m\n",
      "    \"\u001b[32mpy/set\u001b[0m\" : \u001b[36m[\u001b[0m\n",
      "      \u001b[35m{\u001b[0m\n",
      "        \"\u001b[36mdob\u001b[0m\" : \u001b[35m{\u001b[0m\n",
      "          \"\u001b[32m__reduce__\u001b[0m\" : \u001b[36m[\u001b[0m\n",
      "            \u001b[35m{\u001b[0m\n",
      "              \"\u001b[32mpy/type\u001b[0m\" : \"\u001b[31mdatetime.datetime\u001b[0m\"\n",
      "            \u001b[35m}\u001b[0m,\n",
      "            \u001b[36m[\u001b[0m\n",
      "              \"\u001b[31mB9ABCwAAAAAAAA==\u001b[0m\"\n",
      "            \u001b[36m]\u001b[0m\n",
      "          \u001b[36m]\u001b[0m,\n",
      "          \"\u001b[32mpy/object\u001b[0m\" : \"\u001b[31mdatetime.datetime\u001b[0m\"\n",
      "        \u001b[35m}\u001b[0m,\n",
      "        \"\u001b[32mname\u001b[0m\" : \"\u001b[31mSon\u001b[0m\",\n",
      "        \"\u001b[36mparents\u001b[0m\" : \u001b[35m{\u001b[0m\n",
      "          \"\u001b[32mpy/set\u001b[0m\" : \u001b[36m[\u001b[0m\n",
      "            \u001b[35m{\u001b[0m\n",
      "              \"\u001b[32mpy/id\u001b[0m\" : \u001b[31m0\u001b[0m\n",
      "            \u001b[35m}\u001b[0m\n",
      "          \u001b[36m]\u001b[0m\n",
      "        \u001b[35m}\u001b[0m,\n",
      "        \"\u001b[32mpy/object\u001b[0m\" : \"\u001b[31m__main__.Child\u001b[0m\"\n",
      "      \u001b[35m}\u001b[0m\n",
      "    \u001b[36m]\u001b[0m\n",
      "  \u001b[35m}\u001b[0m,\n",
      "  \"\u001b[36mdob\u001b[0m\" : \u001b[35m{\u001b[0m\n",
      "    \"\u001b[32m__reduce__\u001b[0m\" : \u001b[36m[\u001b[0m\n",
      "      \u001b[35m{\u001b[0m\n",
      "        \"\u001b[32mpy/type\u001b[0m\" : \"\u001b[31mdatetime.datetime\u001b[0m\"\n",
      "      \u001b[35m}\u001b[0m,\n",
      "      \u001b[36m[\u001b[0m\n",
      "        \"\u001b[31mB7IBAQAAAAAAAA==\u001b[0m\"\n",
      "      \u001b[36m]\u001b[0m\n",
      "    \u001b[36m]\u001b[0m,\n",
      "    \"\u001b[32mpy/object\u001b[0m\" : \"\u001b[31mdatetime.datetime\u001b[0m\"\n",
      "  \u001b[35m}\u001b[0m,\n",
      "  \"\u001b[32mname\u001b[0m\" : \"\u001b[31mDad\u001b[0m\",\n",
      "  \"\u001b[32mpy/object\u001b[0m\" : \"\u001b[31m__main__.Parent\u001b[0m\"\n",
      "\u001b[35m}\u001b[0m\n"
     ]
    }
   ],
   "source": [
    "js = json.loads(encode(parent))\n",
    "\n",
    "from Perdy.pretty import prettyPrintLn\n",
    "\n",
    "prettyPrintLn(js)"
   ]
  },
  {
   "cell_type": "markdown",
   "metadata": {},
   "source": [
    "### decode\n",
    "\n",
    "re-construct a python class from json string\n",
    "make sure you put classes=[] to reconstitute the correct classes"
   ]
  },
  {
   "cell_type": "code",
   "execution_count": 11,
   "metadata": {},
   "outputs": [
    {
     "name": "stdout",
     "output_type": "stream",
     "text": [
      "name=Dad\n",
      "dob=1970-01-01 00:00:00\n",
      "age=50.14647501711157\n"
     ]
    }
   ],
   "source": [
    "spouse = decode(json.dumps(js), classes=[Parent, Child])\n",
    "#directory(spouse)\n",
    "perdy(spouse)"
   ]
  },
  {
   "cell_type": "code",
   "execution_count": null,
   "metadata": {},
   "outputs": [],
   "source": []
  }
 ],
 "metadata": {
  "kernelspec": {
   "display_name": "Python 3",
   "language": "python",
   "name": "python3"
  },
  "language_info": {
   "codemirror_mode": {
    "name": "ipython",
    "version": 3
   },
   "file_extension": ".py",
   "mimetype": "text/x-python",
   "name": "python",
   "nbconvert_exporter": "python",
   "pygments_lexer": "ipython3",
   "version": "3.7.1"
  }
 },
 "nbformat": 4,
 "nbformat_minor": 2
}
