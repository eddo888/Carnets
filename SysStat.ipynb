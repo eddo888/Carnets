{
 "cells": [
  {
   "cell_type": "code",
   "execution_count": 5,
   "metadata": {},
   "outputs": [
    {
     "name": "stdout",
     "output_type": "stream",
     "text": [
      "Requirement already satisfied: arrow in /private/var/mobile/Containers/Data/Application/FF91FDAC-FD3E-4A5E-A092-87C8CADAA613/Library/lib/python3.7/site-packages (0.15.4)\n",
      "Requirement already satisfied: python-dateutil in /private/var/mobile/Containers/Data/Application/FF91FDAC-FD3E-4A5E-A092-87C8CADAA613/Library/lib/python3.7/site-packages (from arrow) (2.7.5)\n",
      "Requirement already satisfied: six>=1.5 in /private/var/mobile/Containers/Data/Application/FF91FDAC-FD3E-4A5E-A092-87C8CADAA613/Library/lib/python3.7/site-packages (from python-dateutil->arrow) (1.12.0)\n",
      "Note: you may need to restart the kernel to use updated packages.\n"
     ]
    }
   ],
   "source": [
    "pip install arrow"
   ]
  },
  {
   "cell_type": "code",
   "execution_count": 6,
   "metadata": {},
   "outputs": [],
   "source": [
    "import sys, os, re, pwd, grp, json, arrow\n",
    "from collections import OrderedDict"
   ]
  },
  {
   "cell_type": "code",
   "execution_count": 20,
   "metadata": {},
   "outputs": [],
   "source": [
    "me=sys.argv[-1]\n",
    "stat = os.stat(me)\n",
    "\n",
    "def toAEST(t):\n",
    "    mt=arrow.get(t).to('AEST')\n",
    "    return mt.format('YYYY-MM-DD HH:mm:ss')"
   ]
  },
  {
   "cell_type": "code",
   "execution_count": null,
   "metadata": {},
   "outputs": [],
   "source": [
    "sysstat=OrderedDict([\n",
    "    ('stat', OrderedDict([\n",
    "        ('base', os.path.basename(me)),\n",
    "        ('mode', stat.st_mode),\n",
    "        ('ino', stat.st_ino),\n",
    "        ('dev', stat.st_dev),\n",
    "        ('nlink', stat.st_nlink),\n",
    "        ('size', os.path.getsize(me)),\n",
    "        ('owner', OrderedDict([\n",
    "            ('user', pwd.getpwuid(stat.st_uid).pw_name),\n",
    "            ('group', grp.getgrgid(stat.st_gid).gr_name),\n",
    "        ])),\n",
    "        ('times', OrderedDict([\n",
    "            ('created', toAEST(stat.st_ctime)),\n",
    "            ('modified', toAEST(stat.st_mtime)),\n",
    "            ('accessed', toAEST(stat.st_atime)),\n",
    "        ]))\n",
    "    ]))\n",
    "])\n",
    "\n",
    "print(json.dumps(sysstat, indent=4))"
   ]
  },
  {
   "cell_type": "code",
   "execution_count": null,
   "metadata": {},
   "outputs": [],
   "source": []
  }
 ],
 "metadata": {
  "kernelspec": {
   "display_name": "Python 3",
   "language": "python",
   "name": "python3"
  },
  "language_info": {
   "codemirror_mode": {
    "name": "ipython",
    "version": 3
   },
   "file_extension": ".py",
   "mimetype": "text/x-python",
   "name": "python",
   "nbconvert_exporter": "python",
   "pygments_lexer": "ipython3",
   "version": "3.7.1"
  }
 },
 "nbformat": 4,
 "nbformat_minor": 2
}
