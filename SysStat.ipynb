{
 "cells": [
  {
   "cell_type": "code",
   "execution_count": 1,
   "metadata": {},
   "outputs": [
    {
     "name": "stdout",
     "output_type": "stream",
     "text": [
      "Requirement already satisfied: arrow in /Library/Frameworks/Python.framework/Versions/3.8/lib/python3.8/site-packages (0.15.5)\n",
      "Requirement already satisfied: python-dateutil in /Library/Frameworks/Python.framework/Versions/3.8/lib/python3.8/site-packages (from arrow) (2.8.1)\n",
      "Requirement already satisfied: six>=1.5 in /Library/Frameworks/Python.framework/Versions/3.8/lib/python3.8/site-packages (from python-dateutil->arrow) (1.14.0)\n",
      "Note: you may need to restart the kernel to use updated packages.\n"
     ]
    }
   ],
   "source": [
    "pip install arrow"
   ]
  },
  {
   "cell_type": "code",
   "execution_count": 2,
   "metadata": {},
   "outputs": [],
   "source": [
    "import sys, os, re, pwd, grp, json, arrow\n",
    "from collections import OrderedDict"
   ]
  },
  {
   "cell_type": "code",
   "execution_count": 3,
   "metadata": {},
   "outputs": [],
   "source": [
    "me=sys.argv[0]\n",
    "stat = os.stat(me)\n",
    "\n",
    "def toAEST(t):\n",
    "    mt=arrow.get(t).to('AEST')\n",
    "    return mt.format('YYYY-MM-DD HH:mm:ss')"
   ]
  },
  {
   "cell_type": "code",
   "execution_count": 4,
   "metadata": {},
   "outputs": [
    {
     "name": "stdout",
     "output_type": "stream",
     "text": [
      "{\n",
      "    \"stat\": {\n",
      "        \"base\": \"ipykernel_launcher.py\",\n",
      "        \"mode\": 33188,\n",
      "        \"ino\": 8701748802,\n",
      "        \"dev\": 16777220,\n",
      "        \"nlink\": 1,\n",
      "        \"size\": 451,\n",
      "        \"owner\": {\n",
      "            \"user\": \"dave\",\n",
      "            \"group\": \"admin\"\n",
      "        },\n",
      "        \"times\": {\n",
      "            \"created\": \"2020-03-23 16:49:45\",\n",
      "            \"modified\": \"2020-03-23 16:49:44\",\n",
      "            \"accessed\": \"2020-03-23 16:49:45\"\n",
      "        }\n",
      "    }\n",
      "}\n"
     ]
    }
   ],
   "source": [
    "sysstat=OrderedDict([\n",
    "    ('stat', OrderedDict([\n",
    "        ('base', os.path.basename(me)),\n",
    "        ('mode', stat.st_mode),\n",
    "        ('ino', stat.st_ino),\n",
    "        ('dev', stat.st_dev),\n",
    "        ('nlink', stat.st_nlink),\n",
    "        ('size', os.path.getsize(me)),\n",
    "        ('owner', OrderedDict([\n",
    "            ('user', pwd.getpwuid(stat.st_uid).pw_name),\n",
    "            ('group', grp.getgrgid(stat.st_gid).gr_name),\n",
    "        ])),\n",
    "        ('times', OrderedDict([\n",
    "            ('created', toAEST(stat.st_ctime)),\n",
    "            ('modified', toAEST(stat.st_mtime)),\n",
    "            ('accessed', toAEST(stat.st_atime)),\n",
    "        ]))\n",
    "    ]))\n",
    "])\n",
    "\n",
    "print(json.dumps(sysstat, indent=4))"
   ]
  },
  {
   "cell_type": "code",
   "execution_count": null,
   "metadata": {},
   "outputs": [],
   "source": []
  }
 ],
 "metadata": {
  "kernelspec": {
   "display_name": "Python 3",
   "language": "python",
   "name": "python3"
  },
  "language_info": {
   "codemirror_mode": {
    "name": "ipython",
    "version": 3
   },
   "file_extension": ".py",
   "mimetype": "text/x-python",
   "name": "python",
   "nbconvert_exporter": "python",
   "pygments_lexer": "ipython3",
   "version": "3.8.2"
  }
 },
 "nbformat": 4,
 "nbformat_minor": 4
}
