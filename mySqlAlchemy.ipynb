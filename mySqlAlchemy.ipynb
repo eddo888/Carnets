{
 "cells": [
  {
   "cell_type": "markdown",
   "metadata": {
    "slideshow": {
     "slide_type": "slide"
    }
   },
   "source": [
    "# Python ORM\n",
    "\n",
    "This notebook will show you how the sqlalchemy library can be used to provide an object relational mapper for python classes and sqlite sql database files."
   ]
  },
  {
   "cell_type": "code",
   "execution_count": 19,
   "metadata": {},
   "outputs": [
    {
     "name": "stdout",
     "output_type": "stream",
     "text": [
      "Collecting Perdy\n",
      "  Downloading https://files.pythonhosted.org/packages/87/36/b28d80dc560cdd389d2b74b9da6f20d431c820c7cbad083564f6a402fcc7/Perdy-1.7.tar.gz\n",
      "Requirement already satisfied, skipping upgrade: pytz in /private/var/mobile/Containers/Data/Application/4053D624-71DA-49F6-96B2-782AE93B4AC1/Library/lib/python3.7/site-packages (from Perdy) (2018.9)\n",
      "Requirement already satisfied, skipping upgrade: arrow in /private/var/mobile/Containers/Data/Application/4053D624-71DA-49F6-96B2-782AE93B4AC1/Library/lib/python3.7/site-packages (from Perdy) (0.15.5)\n",
      "Requirement already satisfied, skipping upgrade: xmltodict in /private/var/mobile/Containers/Data/Application/4053D624-71DA-49F6-96B2-782AE93B4AC1/Library/lib/python3.7/site-packages (from Perdy) (0.12.0)\n",
      "Requirement already satisfied, skipping upgrade: PyYAML in /private/var/mobile/Containers/Data/Application/4053D624-71DA-49F6-96B2-782AE93B4AC1/Library/lib/python3.7/site-packages (from Perdy) (5.1)\n",
      "Collecting jsonpath (from Perdy)\n",
      "  Downloading https://files.pythonhosted.org/packages/5f/c0/b54189dfe62f1a93ba294ab53508a81d440fc63adff253db369f557a996a/jsonpath-0.82.tar.gz\n",
      "Requirement already satisfied, skipping upgrade: argcomplete in /private/var/mobile/Containers/Data/Application/4053D624-71DA-49F6-96B2-782AE93B4AC1/Library/lib/python3.7/site-packages (from Perdy) (1.11.1)\n",
      "Requirement already satisfied, skipping upgrade: Baubles in /private/var/mobile/Containers/Data/Application/4053D624-71DA-49F6-96B2-782AE93B4AC1/Library/lib/python3.7/site-packages (from Perdy) (1.6)\n",
      "Requirement already satisfied, skipping upgrade: python-dateutil in /private/var/mobile/Containers/Data/Application/4053D624-71DA-49F6-96B2-782AE93B4AC1/Library/lib/python3.7/site-packages (from arrow->Perdy) (2.7.5)\n",
      "Requirement already satisfied, skipping upgrade: importlib-metadata<2,>=0.23; python_version == \"3.7\" in /private/var/mobile/Containers/Data/Application/4053D624-71DA-49F6-96B2-782AE93B4AC1/Library/lib/python3.7/site-packages (from argcomplete->Perdy) (1.5.0)\n",
      "Requirement already satisfied, skipping upgrade: six>=1.5 in /private/var/mobile/Containers/Data/Application/4053D624-71DA-49F6-96B2-782AE93B4AC1/Library/lib/python3.7/site-packages (from python-dateutil->arrow->Perdy) (1.12.0)\n",
      "Requirement already satisfied, skipping upgrade: zipp>=0.5 in /private/var/mobile/Containers/Data/Application/4053D624-71DA-49F6-96B2-782AE93B4AC1/Library/lib/python3.7/site-packages (from importlib-metadata<2,>=0.23; python_version == \"3.7\"->argcomplete->Perdy) (3.0.0)\n",
      "Installing collected packages: jsonpath, Perdy\n",
      "  Running setup.py install for jsonpath ... \u001b[?25l-\\done\n",
      "\u001b[?25h  Found existing installation: Perdy 1.3\n",
      "    Uninstalling Perdy-1.3:\n",
      "      Successfully uninstalled Perdy-1.3\n",
      "  Running setup.py install for Perdy ... \u001b[?25l-\\|/-\\done\n",
      "\u001b[?25hSuccessfully installed Perdy-1.7 jsonpath-0.82\n",
      "Note: you may need to restart the kernel to use updated packages.\n"
     ]
    }
   ],
   "source": [
    "pip install --upgrade Perdy"
   ]
  },
  {
   "cell_type": "code",
   "execution_count": 2,
   "metadata": {
    "slideshow": {
     "slide_type": "fragment"
    }
   },
   "outputs": [],
   "source": [
    "#!/usr/bin/env python3\n",
    "\n",
    "import os, re, sys, argparse, json, datetime, logging\n",
    "\n",
    "from io import StringIO\n",
    "\n",
    "from Perdy.pretty import prettyPrintLn"
   ]
  },
  {
   "cell_type": "markdown",
   "metadata": {
    "slideshow": {
     "slide_type": "subslide"
    }
   },
   "source": [
    "## sqlalchemy\n",
    "\n",
    "The most excellent ORM available for python is the sqlalchemy library"
   ]
  },
  {
   "cell_type": "code",
   "execution_count": 20,
   "metadata": {
    "scrolled": false,
    "slideshow": {
     "slide_type": "fragment"
    }
   },
   "outputs": [
    {
     "name": "stdout",
     "output_type": "stream",
     "text": [
      "Collecting sqlalchemy\n",
      "\u001b[?25l  Downloading https://files.pythonhosted.org/packages/7f/4b/adfb1f03da7f50db054a5b728d32dbfae8937754cfa159efa0216a3758d1/SQLAlchemy-1.3.16.tar.gz (6.1MB)\n",
      "     |████████████████████████████████| 6.1MB 5.5MB/s /s eta 0:00:01\n",
      "\u001b[?25hInstalling collected packages: sqlalchemy\n",
      "  Found existing installation: SQLAlchemy 1.3.13\n",
      "    Uninstalling SQLAlchemy-1.3.13:\n",
      "      Successfully uninstalled SQLAlchemy-1.3.13\n",
      "  Running setup.py install for sqlalchemy ... \u001b[?25l-\\|/-\\|/-\\|/-\\|/-\\|/-\\|/done\n",
      "\u001b[?25hSuccessfully installed sqlalchemy-1.3.16\n",
      "Note: you may need to restart the kernel to use updated packages.\n"
     ]
    }
   ],
   "source": [
    "pip install --upgrade sqlalchemy"
   ]
  },
  {
   "cell_type": "code",
   "execution_count": 4,
   "metadata": {
    "slideshow": {
     "slide_type": "fragment"
    }
   },
   "outputs": [],
   "source": [
    "import sqlalchemy\n",
    "import sqlalchemy.orm\n",
    "from sqlalchemy import \\\n",
    "    Column, \\\n",
    "    Integer, \\\n",
    "    String, \\\n",
    "    ForeignKey\n",
    "from sqlalchemy.engine import \\\n",
    "    reflection\n",
    "from sqlalchemy.orm import \\\n",
    "    relationship, \\\n",
    "    backref\n",
    "from sqlalchemy.orm.collections import \\\n",
    "    InstrumentedList, \\\n",
    "    InstrumentedDict, \\\n",
    "    InstrumentedSet, \\\n",
    "    MappedCollection\n",
    "from sqlalchemy.ext.declarative import \\\n",
    "    declarative_base"
   ]
  },
  {
   "cell_type": "markdown",
   "metadata": {
    "slideshow": {
     "slide_type": "subslide"
    }
   },
   "source": [
    "## jsonweb\n",
    "\n",
    "to serialise python classes we are using jsonweb decorator, which allows you to easily render python classes in json"
   ]
  },
  {
   "cell_type": "code",
   "execution_count": 22,
   "metadata": {
    "scrolled": true,
    "slideshow": {
     "slide_type": "fragment"
    }
   },
   "outputs": [
    {
     "name": "stdout",
     "output_type": "stream",
     "text": [
      "Requirement already up-to-date: jsonweb in /private/var/mobile/Containers/Data/Application/4053D624-71DA-49F6-96B2-782AE93B4AC1/Library/lib/python3.7/site-packages (0.8.2)\n",
      "Note: you may need to restart the kernel to use updated packages.\n"
     ]
    }
   ],
   "source": [
    "pip install --upgrade jsonweb"
   ]
  },
  {
   "cell_type": "code",
   "execution_count": 6,
   "metadata": {
    "slideshow": {
     "slide_type": "fragment"
    }
   },
   "outputs": [],
   "source": [
    "from jsonweb.encode import \\\n",
    "    to_object, \\\n",
    "    dumper\n",
    "from jsonweb.decode import \\\n",
    "    from_object, \\\n",
    "    loader"
   ]
  },
  {
   "cell_type": "code",
   "execution_count": 7,
   "metadata": {
    "slideshow": {
     "slide_type": "fragment"
    }
   },
   "outputs": [
    {
     "name": "stdout",
     "output_type": "stream",
     "text": [
      "[\n",
      "    \"Column\",\n",
      "    \"ForeignKey\",\n",
      "    \"In\",\n",
      "    \"InstrumentedDict\",\n",
      "    \"InstrumentedList\",\n",
      "    \"InstrumentedSet\",\n",
      "    \"Integer\",\n",
      "    \"MappedCollection\",\n",
      "    \"Out\",\n",
      "    \"String\",\n",
      "    \"StringIO\",\n",
      "    \"argparse\",\n",
      "    \"backref\",\n",
      "    \"datetime\",\n",
      "    \"declarative_base\",\n",
      "    \"dumper\",\n",
      "    \"exit\",\n",
      "    \"from_object\",\n",
      "    \"get_ipython\",\n",
      "    \"json\",\n",
      "    \"loader\",\n",
      "    \"logging\",\n",
      "    \"os\",\n",
      "    \"prettyPrintLn\",\n",
      "    \"quit\",\n",
      "    \"re\",\n",
      "    \"reflection\",\n",
      "    \"relationship\",\n",
      "    \"sqlalchemy\",\n",
      "    \"sys\",\n",
      "    \"to_object\"\n",
      "]\n"
     ]
    }
   ],
   "source": [
    "# the following shippet shows visible items in the dir() of the module\n",
    "print(json.dumps(sorted(list(filter(lambda x: not x.startswith('_'), dir()))), indent=4))"
   ]
  },
  {
   "cell_type": "markdown",
   "metadata": {
    "slideshow": {
     "slide_type": "subslide"
    }
   },
   "source": [
    "## quietly\n",
    "\n",
    "to hide some of the logging noise lets set the level to warning for those noisy critters"
   ]
  },
  {
   "cell_type": "code",
   "execution_count": 8,
   "metadata": {
    "slideshow": {
     "slide_type": "fragment"
    }
   },
   "outputs": [
    {
     "name": "stdout",
     "output_type": "stream",
     "text": [
      "sqlalchemy.orm.relationships.RelationshipProperty\n",
      "sqlalchemy.orm.strategies.LazyLoader\n",
      "sqlalchemy.orm.path_registry\n",
      "sqlalchemy.orm.mapper.Mapper\n",
      "sqlalchemy.engine.base.Engine\n",
      "sqlalchemy.pool.NullPool\n",
      "sqlalchemy.pool.impl.NullPool\n",
      "sqlalchemy.pool.SingletonThreadPool\n",
      "requests.packages.urllib3.connectionpool\n"
     ]
    }
   ],
   "source": [
    "def quietly():\n",
    "    for logger in [\n",
    "        \"sqlalchemy.orm.relationships.RelationshipProperty\",\n",
    "        \"sqlalchemy.orm.strategies.LazyLoader\", \"sqlalchemy.orm.path_registry\",\n",
    "        \"sqlalchemy.orm.mapper.Mapper\", \"sqlalchemy.engine.base.Engine\",\n",
    "        \"sqlalchemy.pool.NullPool\", \"sqlalchemy.pool.impl.NullPool\",\n",
    "        \"sqlalchemy.pool.SingletonThreadPool\",\n",
    "        \"requests.packages.urllib3.connectionpool\"\n",
    "    ]:\n",
    "        print(logger)\n",
    "        logging.getLogger(logger).setLevel(logging.WARNING)\n",
    "        \n",
    "quietly()"
   ]
  },
  {
   "cell_type": "markdown",
   "metadata": {
    "slideshow": {
     "slide_type": "subslide"
    }
   },
   "source": [
    "## Base\n",
    "\n",
    "sqlalchemy uses a Base class to allow objects to be marshalled and unmarshalled from the database\n",
    "\n",
    "### MyBase\n",
    "\n",
    "to showcase how we can implement inheritance in an SQL ORM, I have chosen to create a MyBase class that stores an ID for the classes, this saves having to do it each time for each sub class. It also shows how we use an \"inherited\" attribute to define the \"type\" of the subclass"
   ]
  },
  {
   "cell_type": "code",
   "execution_count": 9,
   "metadata": {
    "slideshow": {
     "slide_type": "fragment"
    }
   },
   "outputs": [
    {
     "name": "stdout",
     "output_type": "stream",
     "text": [
      "[\n",
      "    \"id\",\n",
      "    \"inherited\",\n",
      "    \"metadata\"\n",
      "]\n"
     ]
    }
   ],
   "source": [
    "Base = declarative_base()\n",
    "\n",
    "class MyBase(Base):\n",
    "\n",
    "    __tablename__ = 'base'\n",
    "    id            = Column(Integer, primary_key=True)\n",
    "    inherited     = Column(String(256))\n",
    "\n",
    "    __mapper_args__ = {\n",
    "        'polymorphic_identity' : 'base',\n",
    "        'polymorphic_on' : inherited\n",
    "    }\n",
    "\n",
    "    def __init__(self,\n",
    "        id=None,\n",
    "        inherited=None\n",
    "    ):\n",
    "        self.id = id\n",
    "        self.inherited=inherited\n",
    "        return\n",
    "\n",
    "    def __dir__(self):\n",
    "        return [\n",
    "            'id'\n",
    "        ]\n",
    "    \n",
    "print(json.dumps(sorted(list(filter(lambda x: not x.startswith('_'), dir(MyBase)))), indent=4))"
   ]
  },
  {
   "cell_type": "markdown",
   "metadata": {
    "slideshow": {
     "slide_type": "subslide"
    }
   },
   "source": [
    "## Address\n",
    "\n",
    "lets define a class called Address that extends our polymorphic base class\n",
    "\n",
    "### base.id\n",
    "\n",
    "because our *Address* class extgends the *MyBase* class, we have to use a *ForeignKey* to link the parent to the child\n",
    "\n",
    "### ForeignKey\n",
    "\n",
    "we are setting up an sql foreign key to be used to link between the Address class and the forthcomming User class.\n",
    "\n",
    "### super\n",
    "\n",
    "please note that we are ensuring to call the super __init__ method of the base class"
   ]
  },
  {
   "cell_type": "code",
   "execution_count": 10,
   "metadata": {
    "scrolled": true,
    "slideshow": {
     "slide_type": "fragment"
    }
   },
   "outputs": [
    {
     "name": "stdout",
     "output_type": "stream",
     "text": [
      "[\n",
      "    \"email\",\n",
      "    \"id\",\n",
      "    \"inherited\",\n",
      "    \"metadata\",\n",
      "    \"user_id\"\n",
      "]\n"
     ]
    }
   ],
   "source": [
    "@from_object()\n",
    "@to_object()\n",
    "class Address(MyBase):\n",
    "\n",
    "    __tablename__ = 'address'\n",
    "    id            = Column(Integer,    ForeignKey('base.id'), primary_key=True)\n",
    "    email         = Column(String(50), nullable=False)\n",
    "    user_id       = Column(Integer,    ForeignKey('user.id'))\n",
    "\n",
    "    __mapper_args__ = {\n",
    "        'polymorphic_identity':'address'\n",
    "    }\n",
    "\n",
    "    def __init__(self,\n",
    "        id=None,\n",
    "        inherited='address',\n",
    "        email=None,\n",
    "        user_id=None\n",
    "    ):\n",
    "        super(Address,self).__init__(\n",
    "            id=id,\n",
    "            inherited=inherited\n",
    "        )\n",
    "        self.email=email\n",
    "        self.user_id=user_id\n",
    "        return\n",
    "\n",
    "    def __dir__(self):\n",
    "        return [\n",
    "            'id',\n",
    "            'email'\n",
    "        ]\n",
    "    \n",
    "print(json.dumps(sorted(list(filter(lambda x: not x.startswith('_'), dir(Address)))), indent=4))"
   ]
  },
  {
   "cell_type": "markdown",
   "metadata": {
    "slideshow": {
     "slide_type": "subslide"
    }
   },
   "source": [
    "## User\n",
    "\n",
    "To show a one to many relationship, we create a User class type that has a *relationship* with the *Address* class."
   ]
  },
  {
   "cell_type": "code",
   "execution_count": 11,
   "metadata": {
    "slideshow": {
     "slide_type": "fragment"
    }
   },
   "outputs": [
    {
     "name": "stdout",
     "output_type": "stream",
     "text": [
      "[\n",
      "    \"addresses\",\n",
      "    \"fullname\",\n",
      "    \"id\",\n",
      "    \"inherited\",\n",
      "    \"metadata\",\n",
      "    \"name\",\n",
      "    \"password\"\n",
      "]\n"
     ]
    }
   ],
   "source": [
    "@from_object()\n",
    "@to_object()\n",
    "class User(MyBase):\n",
    "\n",
    "    __tablename__ = 'user'\n",
    "    id            = Column(Integer,         ForeignKey('base.id'), primary_key=True)\n",
    "    name          = Column(String(50))\n",
    "    fullname      = Column(String(25))\n",
    "    password      = Column(String(25))\n",
    "    addresses     = relationship(\"Address\", uselist=True, foreign_keys=[Address.user_id])\n",
    "\n",
    "    __mapper_args__ = {\n",
    "        'polymorphic_identity':'user'\n",
    "    }\n",
    "\n",
    "    def __init__(self,\n",
    "        id=None,\n",
    "        inherited='user',\n",
    "        name=None,\n",
    "        fullname=None,\n",
    "        password=None,\n",
    "        addresses=[]\n",
    "    ):\n",
    "        super(User,self).__init__(\n",
    "            id=id,\n",
    "            inherited=inherited\n",
    "        )\n",
    "        self.name=name\n",
    "        self.fullname=fullname\n",
    "        self.password=password\n",
    "        self.addresses=addresses\n",
    "        return\n",
    "\n",
    "    def __dir__(self):\n",
    "        return [\n",
    "            'id',\n",
    "            'name',\n",
    "            'fullname',\n",
    "            'password',\n",
    "            'addresses'\n",
    "        ]\n",
    "    \n",
    "print(json.dumps(sorted(list(filter(lambda x: not x.startswith('_'), dir(User)))), indent=4))"
   ]
  },
  {
   "cell_type": "markdown",
   "metadata": {
    "slideshow": {
     "slide_type": "subslide"
    }
   },
   "source": [
    "## deploy\n",
    "\n",
    "The *engine* is used to setup an ORM relationship with the classes.\n",
    "To create a database from scratch, we use the *Base.metadata.create_all* method to build a new sqlite database fromt he ORM model.\n",
    "\n",
    "Note we can use any number of database technologies, please see the [sqlalchemy](https://sqlalchemy.org) site for more detail."
   ]
  },
  {
   "cell_type": "code",
   "execution_count": 12,
   "metadata": {
    "slideshow": {
     "slide_type": "fragment"
    }
   },
   "outputs": [],
   "source": [
    "def deploy(url, database, make=False, verbose=False):\n",
    "    if make:\n",
    "        if os.path.isfile(database):\n",
    "            os.unlink(database)\n",
    "\n",
    "    engine = sqlalchemy.create_engine('%s/%s'%(url,database), echo=verbose)\n",
    "\n",
    "    if make:\n",
    "        Base.metadata.create_all(engine)\n",
    "\n",
    "    return engine"
   ]
  },
  {
   "cell_type": "markdown",
   "metadata": {
    "slideshow": {
     "slide_type": "subslide"
    }
   },
   "source": [
    "## reflect\n",
    "\n",
    "We have created a help class to instanciate a Session object that is used to transact with the database, as part of this we have thrown in some reflection allowing you to intraspect the ORM model programatically to see what is already in an existing database."
   ]
  },
  {
   "cell_type": "code",
   "execution_count": 13,
   "metadata": {
    "slideshow": {
     "slide_type": "fragment"
    }
   },
   "outputs": [],
   "source": [
    "def reflect(engine, verbose=False):\n",
    "    inspector = reflection.Inspector.from_engine(engine)\n",
    "    if verbose:    \n",
    "        print(inspector)\n",
    "        for table in inspector.get_table_names():\n",
    "            print(table)\n",
    "            for column in inspector.get_columns(table):\n",
    "                print('\\t%s : %s'%(column['name'], column['type']))\n",
    "\n",
    "    Session = sqlalchemy.orm.sessionmaker()\n",
    "    Session.configure(bind=engine)\n",
    "    return Session"
   ]
  },
  {
   "cell_type": "markdown",
   "metadata": {
    "slideshow": {
     "slide_type": "subslide"
    }
   },
   "source": [
    "## insert\n",
    "\n",
    "To insert data we make use of a *session* which we will show later to create a python class object, fill it with values, then add it to the sqlalchemy session and commit the changes."
   ]
  },
  {
   "cell_type": "code",
   "execution_count": 23,
   "metadata": {
    "slideshow": {
     "slide_type": "fragment"
    }
   },
   "outputs": [],
   "source": [
    "def insert(session, verbose=False):\n",
    "    user = User(\n",
    "        name='dedson',\n",
    "        fullname='David Edson',\n",
    "        password='abc123'\n",
    "    )\n",
    "    user.addresses = [\n",
    "        Address(\n",
    "            email='eddo888@tpg.com.au'\n",
    "        ),\n",
    "        Address(\n",
    "            email='david.edson@gmail.com'\n",
    "        )\n",
    "    ]\n",
    "    session.add(user)\n",
    "    session.commit()\n",
    "    if verbose:\n",
    "        print('saved user.id=%s'%user.id)\n",
    "    return user.id"
   ]
  },
  {
   "cell_type": "markdown",
   "metadata": {
    "slideshow": {
     "slide_type": "subslide"
    }
   },
   "source": [
    "## query\n",
    "\n",
    "To show one of they many ways we can retrieve or query data from the ORM, we make use of the *session* to query based on a *User* class type, and then filter based an attribute name=value pattern."
   ]
  },
  {
   "cell_type": "code",
   "execution_count": 15,
   "metadata": {
    "slideshow": {
     "slide_type": "fragment"
    }
   },
   "outputs": [],
   "source": [
    "def query(session, verbose=False):\n",
    "    users = session.query(User).filter_by(name='dedson').all()\n",
    "    js = json.loads(dumper(users))\n",
    "    if verbose:\n",
    "        print(json.dumps(js, indent=4))\n",
    "    return js"
   ]
  },
  {
   "cell_type": "markdown",
   "metadata": {
    "slideshow": {
     "slide_type": "subslide"
    }
   },
   "source": [
    "## setup\n",
    "\n",
    "Now that we have all the definitions and scaffoldoign in place, lets actually connect to the datavbase and create a Session to play with."
   ]
  },
  {
   "cell_type": "code",
   "execution_count": 16,
   "metadata": {
    "slideshow": {
     "slide_type": "fragment"
    }
   },
   "outputs": [
    {
     "name": "stdout",
     "output_type": "stream",
     "text": [
      "mySqlAlchemy.db\n"
     ]
    }
   ],
   "source": [
    "url = 'sqlite://'\n",
    "database = 'mySqlAlchemy.db'\n",
    "print(database)\n",
    "\n",
    "engine = deploy(url, database, make=True)\n",
    "Session = reflect(engine, verbose=False)"
   ]
  },
  {
   "cell_type": "markdown",
   "metadata": {
    "slideshow": {
     "slide_type": "subslide"
    }
   },
   "source": [
    "## Session()\n",
    "\n",
    "Instantiate a Session object and use it to insert a record."
   ]
  },
  {
   "cell_type": "code",
   "execution_count": 17,
   "metadata": {
    "slideshow": {
     "slide_type": "fragment"
    }
   },
   "outputs": [
    {
     "name": "stdout",
     "output_type": "stream",
     "text": [
      "saved user.id=1\n"
     ]
    }
   ],
   "source": [
    "session = Session()\n",
    "insert(session, verbose=True)\n",
    "session.close()"
   ]
  },
  {
   "cell_type": "markdown",
   "metadata": {
    "slideshow": {
     "slide_type": "subslide"
    }
   },
   "source": [
    "## query\n",
    "\n",
    "Create a new session object and use it to query the database."
   ]
  },
  {
   "cell_type": "code",
   "execution_count": 18,
   "metadata": {
    "scrolled": true,
    "slideshow": {
     "slide_type": "fragment"
    }
   },
   "outputs": [
    {
     "name": "stdout",
     "output_type": "stream",
     "text": [
      "\u001b[36m[\u001b[0m\n",
      "  \u001b[35m{\u001b[0m\n",
      "    \"\u001b[32maddresses\u001b[0m\" : \u001b[36m[\u001b[0m\n",
      "      \u001b[35m{\u001b[0m\n",
      "        \"\u001b[32memail\u001b[0m\" : \"\u001b[31meddo888@tpg.com.au\u001b[0m\",\n",
      "        \"\u001b[32mid\u001b[0m\" : \u001b[31m2\u001b[0m,\n",
      "        \"\u001b[32m__type__\u001b[0m\" : \"\u001b[31mAddress\u001b[0m\"\n",
      "      \u001b[35m}\u001b[0m,\n",
      "      \u001b[35m{\u001b[0m\n",
      "        \"\u001b[32memail\u001b[0m\" : \"\u001b[31mdavid.edson@gmail.com\u001b[0m\",\n",
      "        \"\u001b[32mid\u001b[0m\" : \u001b[31m3\u001b[0m,\n",
      "        \"\u001b[32m__type__\u001b[0m\" : \"\u001b[31mAddress\u001b[0m\"\n",
      "      \u001b[35m}\u001b[0m\n",
      "    \u001b[36m]\u001b[0m,\n",
      "    \"\u001b[32mfullname\u001b[0m\" : \"\u001b[31mDavid Edson\u001b[0m\",\n",
      "    \"\u001b[32mid\u001b[0m\" : \u001b[31m1\u001b[0m,\n",
      "    \"\u001b[32mname\u001b[0m\" : \"\u001b[31mdedson\u001b[0m\",\n",
      "    \"\u001b[32mpassword\u001b[0m\" : \"\u001b[31mabc123\u001b[0m\",\n",
      "    \"\u001b[32m__type__\u001b[0m\" : \"\u001b[31mUser\u001b[0m\"\n",
      "  \u001b[35m}\u001b[0m\n",
      "\u001b[36m]\u001b[0m\n"
     ]
    }
   ],
   "source": [
    "session = Session()\n",
    "js = query(session, verbose=False)\n",
    "session.close()\n",
    "\n",
    "prettyPrintLn(js)"
   ]
  },
  {
   "cell_type": "markdown",
   "metadata": {
    "slideshow": {
     "slide_type": "slide"
    }
   },
   "source": [
    "# Conclusion\n",
    "\n",
    "I hope this simple example gives you a taste for using python and sqlalchemy to crate an ORM and start using a normalised class based interface to your relational databases."
   ]
  }
 ],
 "metadata": {
  "celltoolbar": "Slideshow",
  "kernelspec": {
   "display_name": "Python 3",
   "language": "python",
   "name": "python3"
  },
  "language_info": {
   "codemirror_mode": {
    "name": "ipython",
    "version": 3
   },
   "file_extension": ".py",
   "mimetype": "text/x-python",
   "name": "python",
   "nbconvert_exporter": "python",
   "pygments_lexer": "ipython3",
   "version": "3.7.1"
  }
 },
 "nbformat": 4,
 "nbformat_minor": 2
}
