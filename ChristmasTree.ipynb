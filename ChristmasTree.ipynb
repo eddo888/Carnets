{
 "cells": [
  {
   "cell_type": "code",
   "execution_count": 1,
   "metadata": {},
   "outputs": [
    {
     "name": "stdout",
     "output_type": "stream",
     "text": [
      "Requirement already satisfied: Baubles in /private/var/mobile/Containers/Data/Application/F2CD2603-309D-4ECD-9237-D938E59CB79D/Library/lib/python3.7/site-packages (1.6)\n",
      "Note: you may need to restart the kernel to use updated packages.\n"
     ]
    }
   ],
   "source": [
    "pip install Baubles"
   ]
  },
  {
   "cell_type": "code",
   "execution_count": null,
   "metadata": {},
   "outputs": [],
   "source": [
    "from Baubles.Logger import Logger\n",
    "\n",
    "logger = Logger()\n",
    "\n",
    "@logger.info\n",
    "def log_me(with_some, arguments=None):\n",
    "    return '%s -> %s'%(with_some, arguments)\n",
    "\n",
    "log_me('hi', arguments='there')\n"
   ]
  }
 ],
 "metadata": {
  "kernelspec": {
   "display_name": "Python 3",
   "language": "python",
   "name": "python3"
  },
  "language_info": {
   "codemirror_mode": {
    "name": "ipython",
    "version": 3
   },
   "file_extension": ".py",
   "mimetype": "text/x-python",
   "name": "python",
   "nbconvert_exporter": "python",
   "pygments_lexer": "ipython3",
   "version": "3.7.1"
  }
 },
 "nbformat": 4,
 "nbformat_minor": 2
}
