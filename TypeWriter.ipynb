{
 "cells": [
  {
   "cell_type": "markdown",
   "metadata": {},
   "source": [
    "# python: types\n",
    "\n",
    "This code is an extension of the work by Simon, which can be found here -> \n",
    "[article by Simon](https://aboutsimon.com/blog/2018/04/04/Python3-Type-Checking-And-Data-Validation-With-Type-Hints.html)"
   ]
  },
  {
   "cell_type": "code",
   "execution_count": 1,
   "metadata": {},
   "outputs": [
    {
     "name": "stdout",
     "output_type": "stream",
     "text": [
      "Collecting mypy\n",
      "  Downloading mypy-0.770-cp38-cp38-macosx_10_9_x86_64.whl (8.6 MB)\n",
      "\u001b[K     |████████████████████████████████| 8.6 MB 6.3 MB/s eta 0:00:01\n",
      "\u001b[?25hCollecting typing-extensions>=3.7.4\n",
      "  Downloading typing_extensions-3.7.4.1-py3-none-any.whl (20 kB)\n",
      "Collecting typed-ast<1.5.0,>=1.4.0\n",
      "  Downloading typed_ast-1.4.1.tar.gz (208 kB)\n",
      "\u001b[K     |████████████████████████████████| 208 kB 7.1 MB/s eta 0:00:01\n",
      "\u001b[?25hCollecting mypy-extensions<0.5.0,>=0.4.3\n",
      "  Downloading mypy_extensions-0.4.3-py2.py3-none-any.whl (4.5 kB)\n",
      "Installing collected packages: typing-extensions, typed-ast, mypy-extensions, mypy\n",
      "    Running setup.py install for typed-ast ... \u001b[?25ldone\n",
      "\u001b[?25hSuccessfully installed mypy-0.770 mypy-extensions-0.4.3 typed-ast-1.4.1 typing-extensions-3.7.4.1\n",
      "Note: you may need to restart the kernel to use updated packages.\n"
     ]
    }
   ],
   "source": [
    "pip install mypy"
   ]
  },
  {
   "cell_type": "code",
   "execution_count": 2,
   "metadata": {},
   "outputs": [],
   "source": [
    "import sys, re, os\n",
    "\n",
    "from typing import get_type_hints\n",
    "from functools import wraps\n",
    "from inspect import getfullargspec"
   ]
  },
  {
   "cell_type": "markdown",
   "metadata": {},
   "source": [
    "## validate_input()\n",
    "\n",
    "helper function to validate the input, and return the expected output type"
   ]
  },
  {
   "cell_type": "code",
   "execution_count": 3,
   "metadata": {},
   "outputs": [],
   "source": [
    "def validate_input(obj, **kwargs):\n",
    "    hints = get_type_hints(obj)\n",
    "    return_type = None\n",
    "\n",
    "    # iterate all type hints\n",
    "    for attr_name, attr_type in hints.items():\n",
    "        if attr_name == 'return':\n",
    "            return_type = attr_type\n",
    "            continue\n",
    "\n",
    "        if not isinstance(kwargs[attr_name], attr_type):\n",
    "            raise TypeError('Argument %r is not of type %s' % (attr_name, attr_type))\n",
    "\n",
    "    return return_type"
   ]
  },
  {
   "cell_type": "markdown",
   "metadata": {},
   "source": [
    "## type_check()\n",
    "\n",
    "decorator to wrap a function and enforce the types in and out"
   ]
  },
  {
   "cell_type": "code",
   "execution_count": 4,
   "metadata": {},
   "outputs": [],
   "source": [
    "def type_check(decorator):\n",
    "    @wraps(decorator)\n",
    "    def wrapped_decorator(*args, **kwargs):\n",
    "        # translate *args into **kwargs\n",
    "        func_args = getfullargspec(decorator)[0]\n",
    "        kwargs.update(dict(zip(func_args, args)))\n",
    "\n",
    "        return_type = validate_input(decorator, **kwargs)\n",
    "        return_value = decorator(**kwargs)\n",
    "        \n",
    "        if return_type and not isinstance(return_value, return_type):\n",
    "            raise TypeError('return value %r is not of type %s' % (return_value, return_type))\n",
    "        return return_value\n",
    "\n",
    "    return wrapped_decorator"
   ]
  },
  {
   "cell_type": "markdown",
   "metadata": {},
   "source": [
    "## addition()\n",
    "\n",
    "test function to validate inputs"
   ]
  },
  {
   "cell_type": "code",
   "execution_count": 5,
   "metadata": {},
   "outputs": [],
   "source": [
    "@type_check\n",
    "def addition(number: int, other_number: int) -> int:\n",
    "    return number + other_number"
   ]
  },
  {
   "cell_type": "markdown",
   "metadata": {},
   "source": [
    "### test valid"
   ]
  },
  {
   "cell_type": "code",
   "execution_count": 6,
   "metadata": {},
   "outputs": [
    {
     "name": "stdout",
     "output_type": "stream",
     "text": [
      "addition(1,2)=3\n"
     ]
    }
   ],
   "source": [
    "r = addition(1, 2)\n",
    "print('addition(1,2)=%d'%r)\n",
    "assert(r == 3)"
   ]
  },
  {
   "cell_type": "markdown",
   "metadata": {},
   "source": [
    "### test invalid"
   ]
  },
  {
   "cell_type": "code",
   "execution_count": 7,
   "metadata": {},
   "outputs": [
    {
     "name": "stdout",
     "output_type": "stream",
     "text": [
      "addition(1,'2')\n",
      "\tArgument 'other_number' is not of type <class 'int'>\n"
     ]
    }
   ],
   "source": [
    "try:\n",
    "    print('addition(1,\\'2\\')')\n",
    "    print(addition(1, '2'))\n",
    "except TypeError:\n",
    "    e = str(sys.exc_info()[1])\n",
    "    print('\\t%s'%e)\n",
    "    assert (e == \"Argument 'other_number' is not of type <class 'int'>\")"
   ]
  },
  {
   "cell_type": "markdown",
   "metadata": {},
   "source": [
    "## subtraction()\n",
    "\n",
    "to test valid output return values"
   ]
  },
  {
   "cell_type": "code",
   "execution_count": 8,
   "metadata": {},
   "outputs": [],
   "source": [
    "@type_check\n",
    "def subtraction(number: int) -> int:\n",
    "    if number == 1:\n",
    "        return 1\n",
    "    return 'number=%d'%number"
   ]
  },
  {
   "cell_type": "markdown",
   "metadata": {},
   "source": [
    "### test valid"
   ]
  },
  {
   "cell_type": "code",
   "execution_count": 9,
   "metadata": {},
   "outputs": [
    {
     "name": "stdout",
     "output_type": "stream",
     "text": [
      "subtraction(1)=1\n"
     ]
    }
   ],
   "source": [
    "r = subtraction(1)\n",
    "print('subtraction(1)=%d'%r)\n",
    "assert(r == 1)"
   ]
  },
  {
   "cell_type": "markdown",
   "metadata": {},
   "source": [
    "### test invalid"
   ]
  },
  {
   "cell_type": "code",
   "execution_count": 10,
   "metadata": {},
   "outputs": [
    {
     "name": "stdout",
     "output_type": "stream",
     "text": [
      "subtraction(2)\n",
      "\treturn value 'number=2' is not of type <class 'int'>\n"
     ]
    }
   ],
   "source": [
    "try:\n",
    "    print('subtraction(2)')\n",
    "    print(subtraction(2))\n",
    "except TypeError:\n",
    "    e = str(sys.exc_info()[1])\n",
    "    print('\\t%s'%e)\n",
    "    assert (e == \"return value 'number=2' is not of type <class 'int'>\")"
   ]
  },
  {
   "cell_type": "markdown",
   "metadata": {},
   "source": [
    "# conclusion\n",
    "\n",
    "usefull wrappers to encorce type definitions in python 3"
   ]
  },
  {
   "cell_type": "code",
   "execution_count": null,
   "metadata": {},
   "outputs": [],
   "source": []
  }
 ],
 "metadata": {
  "kernelspec": {
   "display_name": "Python 3",
   "language": "python",
   "name": "python3"
  },
  "language_info": {
   "codemirror_mode": {
    "name": "ipython",
    "version": 3
   },
   "file_extension": ".py",
   "mimetype": "text/x-python",
   "name": "python",
   "nbconvert_exporter": "python",
   "pygments_lexer": "ipython3",
   "version": "3.8.2"
  }
 },
 "nbformat": 4,
 "nbformat_minor": 4
}
