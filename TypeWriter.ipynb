{
 "cells": [
  {
   "cell_type": "markdown",
   "metadata": {},
   "source": [
    "# python: types\n",
    "\n",
    "This code is an extension of the work by Simon, which can be found here -> \n",
    "[article by Simon](https://aboutsimon.com/blog/2018/04/04/Python3-Type-Checking-And-Data-Validation-With-Type-Hints.html)"
   ]
  },
  {
   "cell_type": "code",
   "execution_count": 1,
   "metadata": {},
   "outputs": [
    {
     "name": "stdout",
     "output_type": "stream",
     "text": [
      "Collecting mypy\n",
      "  Using cached https://files.pythonhosted.org/packages/dd/9c/6e5db15fc89d2e8d4e436aba77a7ac0290e476cdb6100be4c99b10272593/mypy-0.761-py3-none-any.whl\n",
      "Collecting typing-extensions>=3.7.4 (from mypy)\n",
      "  Using cached https://files.pythonhosted.org/packages/03/92/705fe8aca27678e01bbdd7738173b8e7df0088a2202c80352f664630d638/typing_extensions-3.7.4.1-py3-none-any.whl\n",
      "Collecting typed-ast<1.5.0,>=1.4.0 (from mypy)\n",
      "  Using cached https://files.pythonhosted.org/packages/34/de/d0cfe2ea7ddfd8b2b8374ed2e04eeb08b6ee6e1e84081d151341bba596e5/typed_ast-1.4.0.tar.gz\n",
      "Requirement already satisfied: mypy-extensions<0.5.0,>=0.4.3 in /private/var/mobile/Containers/Data/Application/FF91FDAC-FD3E-4A5E-A092-87C8CADAA613/Library/lib/python3.7/site-packages (from mypy) (0.4.3)\n",
      "Installing collected packages: typing-extensions, typed-ast, mypy\n",
      "  Running setup.py install for typed-ast: started\n",
      "    Running setup.py install for typed-ast: finished with status 'error'\n",
      "Note: you may need to restart the kernel to use updated packages.\n"
     ]
    },
    {
     "name": "stderr",
     "output_type": "stream",
     "text": [
      "    ERROR: Complete output from command /var/mobile/Containers/Data/Application/FF91FDAC-FD3E-4A5E-A092-87C8CADAA613/Library/bin/python3 -u -c 'import setuptools, tokenize;__file__='\"'\"'/private/var/mobile/Containers/Data/Application/FF91FDAC-FD3E-4A5E-A092-87C8CADAA613/tmp/pip-install-3ekkimgr/typed-ast/setup.py'\"'\"';f=getattr(tokenize, '\"'\"'open'\"'\"', open)(__file__);code=f.read().replace('\"'\"'\\r\\n'\"'\"', '\"'\"'\\n'\"'\"');f.close();exec(compile(code, __file__, '\"'\"'exec'\"'\"'))' install --record /private/var/mobile/Containers/Data/Application/FF91FDAC-FD3E-4A5E-A092-87C8CADAA613/tmp/pip-record-pttf5xon/install-record.txt --single-version-externally-managed --compile:\n",
      "    ERROR: running install\n",
      "    running build\n",
      "    running build_py\n",
      "    creating build\n",
      "    creating build/lib.iphoneos-10.14-iPhone12,5-3.7\n",
      "    creating build/lib.iphoneos-10.14-iPhone12,5-3.7/typed_ast\n",
      "    copying typed_ast/conversions.py -> build/lib.iphoneos-10.14-iPhone12,5-3.7/typed_ast\n",
      "    copying typed_ast/__init__.py -> build/lib.iphoneos-10.14-iPhone12,5-3.7/typed_ast\n",
      "    copying typed_ast/ast3.py -> build/lib.iphoneos-10.14-iPhone12,5-3.7/typed_ast\n",
      "    copying typed_ast/ast27.py -> build/lib.iphoneos-10.14-iPhone12,5-3.7/typed_ast\n",
      "    package init file 'ast3/tests/__init__.py' not found (or not a regular file)\n",
      "    creating build/lib.iphoneos-10.14-iPhone12,5-3.7/typed_ast/tests\n",
      "    copying ast3/tests/test_basics.py -> build/lib.iphoneos-10.14-iPhone12,5-3.7/typed_ast/tests\n",
      "    running build_ext\n",
      "    building '_ast27' extension\n",
      "    creating build/temp.iphoneos-10.14-iPhone12,5-3.7\n",
      "    creating build/temp.iphoneos-10.14-iPhone12,5-3.7/ast27\n",
      "    creating build/temp.iphoneos-10.14-iPhone12,5-3.7/ast27/Parser\n",
      "    creating build/temp.iphoneos-10.14-iPhone12,5-3.7/ast27/Python\n",
      "    creating build/temp.iphoneos-10.14-iPhone12,5-3.7/ast27/Custom\n",
      "    error: ('clang not available on iOS for ', ['clang', '-Wno-unused-result', '-Wsign-compare', '-Wunreachable-code', '-DNDEBUG', '-g', '-fwrapv', '-O3', '-Wall', '-Iast27/Include', '-I/var/mobile/Containers/Data/Application/FF91FDAC-FD3E-4A5E-A092-87C8CADAA613/Library/include/python3.7m', '-c', 'ast27/Parser/acceler.c', '-o', 'build/temp.iphoneos-10.14-iPhone12,5-3.7/ast27/Parser/acceler.o'])\n",
      "    ----------------------------------------\n",
      "ERROR: Command \"/var/mobile/Containers/Data/Application/FF91FDAC-FD3E-4A5E-A092-87C8CADAA613/Library/bin/python3 -u -c 'import setuptools, tokenize;__file__='\"'\"'/private/var/mobile/Containers/Data/Application/FF91FDAC-FD3E-4A5E-A092-87C8CADAA613/tmp/pip-install-3ekkimgr/typed-ast/setup.py'\"'\"';f=getattr(tokenize, '\"'\"'open'\"'\"', open)(__file__);code=f.read().replace('\"'\"'\\r\\n'\"'\"', '\"'\"'\\n'\"'\"');f.close();exec(compile(code, __file__, '\"'\"'exec'\"'\"'))' install --record /private/var/mobile/Containers/Data/Application/FF91FDAC-FD3E-4A5E-A092-87C8CADAA613/tmp/pip-record-pttf5xon/install-record.txt --single-version-externally-managed --compile\" failed with error code 1 in /private/var/mobile/Containers/Data/Application/FF91FDAC-FD3E-4A5E-A092-87C8CADAA613/tmp/pip-install-3ekkimgr/typed-ast/\n"
     ]
    }
   ],
   "source": [
    "pip install mypy"
   ]
  },
  {
   "cell_type": "code",
   "execution_count": 2,
   "metadata": {},
   "outputs": [],
   "source": [
    "import sys, re, os\n",
    "\n",
    "from typing import get_type_hints\n",
    "from functools import wraps\n",
    "from inspect import getfullargspec"
   ]
  },
  {
   "cell_type": "markdown",
   "metadata": {},
   "source": [
    "## validate_input()\n",
    "\n",
    "helper function to validate the input, and return the expected output type"
   ]
  },
  {
   "cell_type": "code",
   "execution_count": 3,
   "metadata": {},
   "outputs": [],
   "source": [
    "def validate_input(obj, **kwargs):\n",
    "    hints = get_type_hints(obj)\n",
    "    return_type = None\n",
    "\n",
    "    # iterate all type hints\n",
    "    for attr_name, attr_type in hints.items():\n",
    "        if attr_name == 'return':\n",
    "            return_type = attr_type\n",
    "            continue\n",
    "\n",
    "        if not isinstance(kwargs[attr_name], attr_type):\n",
    "            raise TypeError('Argument %r is not of type %s' % (attr_name, attr_type))\n",
    "\n",
    "    return return_type"
   ]
  },
  {
   "cell_type": "markdown",
   "metadata": {},
   "source": [
    "## type_check()\n",
    "\n",
    "decorator to wrap a function and enforce the types in and out"
   ]
  },
  {
   "cell_type": "code",
   "execution_count": 4,
   "metadata": {},
   "outputs": [],
   "source": [
    "def type_check(decorator):\n",
    "    @wraps(decorator)\n",
    "    def wrapped_decorator(*args, **kwargs):\n",
    "        # translate *args into **kwargs\n",
    "        func_args = getfullargspec(decorator)[0]\n",
    "        kwargs.update(dict(zip(func_args, args)))\n",
    "\n",
    "        return_type = validate_input(decorator, **kwargs)\n",
    "        return_value = decorator(**kwargs)\n",
    "        \n",
    "        if return_type and not isinstance(return_value, return_type):\n",
    "            raise TypeError('return value %r is not of type %s' % (return_value, return_type))\n",
    "        return return_value\n",
    "\n",
    "    return wrapped_decorator"
   ]
  },
  {
   "cell_type": "markdown",
   "metadata": {},
   "source": [
    "## addition()\n",
    "\n",
    "test function to validate inputs"
   ]
  },
  {
   "cell_type": "code",
   "execution_count": 5,
   "metadata": {},
   "outputs": [],
   "source": [
    "@type_check\n",
    "def addition(number: int, other_number: int) -> int:\n",
    "    return number + other_number"
   ]
  },
  {
   "cell_type": "markdown",
   "metadata": {},
   "source": [
    "### test valid"
   ]
  },
  {
   "cell_type": "code",
   "execution_count": 6,
   "metadata": {},
   "outputs": [
    {
     "name": "stdout",
     "output_type": "stream",
     "text": [
      "addition(1,2)=3\n"
     ]
    }
   ],
   "source": [
    "r = addition(1, 2)\n",
    "print('addition(1,2)=%d'%r)\n",
    "assert(r == 3)"
   ]
  },
  {
   "cell_type": "markdown",
   "metadata": {},
   "source": [
    "### test invalid"
   ]
  },
  {
   "cell_type": "code",
   "execution_count": 7,
   "metadata": {},
   "outputs": [
    {
     "name": "stdout",
     "output_type": "stream",
     "text": [
      "addition(1,'2')\n",
      "\tArgument 'other_number' is not of type <class 'int'>\n"
     ]
    }
   ],
   "source": [
    "try:\n",
    "    print('addition(1,\\'2\\')')\n",
    "    print(addition(1, '2'))\n",
    "except TypeError:\n",
    "    e = str(sys.exc_info()[1])\n",
    "    print('\\t%s'%e)\n",
    "    assert (e == \"Argument 'other_number' is not of type <class 'int'>\")"
   ]
  },
  {
   "cell_type": "markdown",
   "metadata": {},
   "source": [
    "## subtraction()\n",
    "\n",
    "to test valid output return values"
   ]
  },
  {
   "cell_type": "code",
   "execution_count": 8,
   "metadata": {},
   "outputs": [],
   "source": [
    "@type_check\n",
    "def subtraction(number: int) -> int:\n",
    "    if number == 1:\n",
    "        return 1\n",
    "    return 'number=%d'%number"
   ]
  },
  {
   "cell_type": "markdown",
   "metadata": {},
   "source": [
    "### test valid"
   ]
  },
  {
   "cell_type": "code",
   "execution_count": 9,
   "metadata": {},
   "outputs": [
    {
     "name": "stdout",
     "output_type": "stream",
     "text": [
      "subtraction(1)=1\n"
     ]
    }
   ],
   "source": [
    "r = subtraction(1)\n",
    "print('subtraction(1)=%d'%r)\n",
    "assert(r == 1)"
   ]
  },
  {
   "cell_type": "markdown",
   "metadata": {},
   "source": [
    "### test invalid"
   ]
  },
  {
   "cell_type": "code",
   "execution_count": 10,
   "metadata": {},
   "outputs": [
    {
     "name": "stdout",
     "output_type": "stream",
     "text": [
      "subtraction(2)\n",
      "\treturn value 'number=2' is not of type <class 'int'>\n"
     ]
    }
   ],
   "source": [
    "try:\n",
    "    print('subtraction(2)')\n",
    "    print(subtraction(2))\n",
    "except TypeError:\n",
    "    e = str(sys.exc_info()[1])\n",
    "    print('\\t%s'%e)\n",
    "    assert (e == \"return value 'number=2' is not of type <class 'int'>\")"
   ]
  },
  {
   "cell_type": "markdown",
   "metadata": {},
   "source": [
    "# conclusion\n",
    "\n",
    "usefull wrappers to encorce type definitions in python 3"
   ]
  }
 ],
 "metadata": {
  "kernelspec": {
   "display_name": "Python 3",
   "language": "python",
   "name": "python3"
  },
  "language_info": {
   "codemirror_mode": {
    "name": "ipython",
    "version": 3
   },
   "file_extension": ".py",
   "mimetype": "text/x-python",
   "name": "python",
   "nbconvert_exporter": "python",
   "pygments_lexer": "ipython3",
   "version": "3.7.1"
  }
 },
 "nbformat": 4,
 "nbformat_minor": 2
}
